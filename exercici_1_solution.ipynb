{
 "cells": [
  {
   "cell_type": "markdown",
   "metadata": {},
   "source": [
    "# Exercici pràctic Java - Generics i Collections"
   ]
  },
  {
   "cell_type": "markdown",
   "metadata": {},
   "source": [
    "(NOTA: és un exercici d'examen, senzill)\n",
    "\n",
    "### Primer pas: creeu una classe Pair, usant genèrics, que tingui compleixi la següent descripció:\n",
    "\n",
    "La classe Pair tindrà dues propietats (privades): key i value (aquests són els noms de les variables). El tipus de dada de cadascuna d'aquestes propietats seran tipus de dades genèrics. \n",
    "\n",
    "Heu d'escriure també els corresponents setters i getters de cada propietat.\n",
    "\n"
   ]
  },
  {
   "cell_type": "code",
   "execution_count": 4,
   "metadata": {},
   "outputs": [],
   "source": [
    "class Pair<K,V> {\n",
    "\n",
    "    private K key;\n",
    "    private V value;\n",
    "    \n",
    "    //setters\n",
    "    public void setKey(K key){\n",
    "        this.key = key;\n",
    "    }\n",
    "    public void setValue(V value){\n",
    "        this.value = value;\n",
    "    }\n",
    "    \n",
    "    //getters\n",
    "    public K getKey(){\n",
    "        return this.key;\n",
    "    }\n",
    "    public V getValue(){\n",
    "        return this.value;\n",
    "    }\n",
    "}"
   ]
  },
  {
   "cell_type": "markdown",
   "metadata": {},
   "source": [
    "### Segon pas: creeu la classe Person\n",
    "Un cop tingueu definida la classe Pair, creareu una classe Person, amb les següents propietats:\n",
    "\n",
    "* -name: String\n",
    "* -surname: String\n",
    "* -dateOfBirth: LocalDate\n",
    "\n",
    "Les propietats ``name`` i ``surname`` han de ser _final_.\n",
    "\n",
    "Heu de crear els corresponents setters i getters.\n",
    "\n",
    "Heu de crear un constructor al qual se li pugui passar el nom i el cognom.\n",
    "\n",
    "Heu de crear també el constructor per defecte que crea l'objecte sense cap paràmetre.\n",
    "\n"
   ]
  },
  {
   "cell_type": "code",
   "execution_count": 5,
   "metadata": {},
   "outputs": [],
   "source": [
    "import java.time.LocalDate;\n",
    "\n",
    "class Person{\n",
    "\n",
    "    private final String name;\n",
    "    private final String surname;\n",
    "    private LocalDate dateOfBirth;\n",
    "    \n",
    "    //Constructors\n",
    "    public Person(String name, String surname){\n",
    "        this.name = name;\n",
    "        this.surname = surname;\n",
    "    }\n",
    "    public Person(){\n",
    "        this.name = \"Default\";\n",
    "        this.surname = \"Default\";\n",
    "        \n",
    "    }\n",
    "    \n",
    "    //setters\n",
    "    public void setDateOfBirth(LocalDate dateOfBirth){\n",
    "        this.dateOfBirth = dateOfBirth;\n",
    "    }\n",
    "    \n",
    "    //getters\n",
    "    public String getName(){\n",
    "        return this.name;\n",
    "    }\n",
    "    public String getSurname(){\n",
    "        return this.surname;\n",
    "    }\n",
    "    public LocalDate getDateOfBirth(){\n",
    "        return this.dateOfBirth;\n",
    "    }\n",
    "    \n",
    "    @Override\n",
    "    public String toString(){\n",
    "        return this.name + \" \" + this.surname;\n",
    "    }\n",
    "\n",
    "}\n"
   ]
  },
  {
   "cell_type": "markdown",
   "metadata": {},
   "source": [
    "### Tercer pas: programeu el següent cas d'ús de la classe Pair:\n",
    "En la següent cel·la teniu un map on la **clau** és el DNI de la persona, i el **valor** és el nom i cognoms de la persona.\n",
    "\n",
    "Heu de crear un arrayList de Pair, on cada objecte Pair tindrà com a primer tipus de dada (key) el DNI d'una persona, i com segon tipus de dada (value) un objecte Person (**no confondre el key i value de la classe Pair amb el key i value del map**):\n",
    "\n",
    "* la clau de cada Pair s'obtindrà de la clau del map,\n",
    "* el valor de cada Pair serà un objecte Person creat amb el constructor de 2 paràmetres (nom i cognom), obtening el nom i cognom de l'String que forma el value del map.\n",
    "\n",
    "Un cop creat l'arrayList, fareu un recorregut amb un forearh i imprimireu per pantalla el DNI i el nom i cognoms de cada persona. Podeu sobreescriure el mètode toString a la classe Person."
   ]
  },
  {
   "cell_type": "code",
   "execution_count": 41,
   "metadata": {},
   "outputs": [],
   "source": [
    "Map<String, String> dataPersons = new HashMap<>();\n",
    "dataPersons.put(\"12345678A\", \"Laura Casamitjana\");\n",
    "dataPersons.put(\"98765439Z\", \"Josep Casacuberta\");\n",
    "dataPersons.put(\"45645632P\", \"Miquel Queralt\");\n",
    "dataPersons.put(\"23498755H\", \"Eulalia Forners\");\n",
    "dataPersons.put(\"07651206T\", \"Abril Nevada\");"
   ]
  },
  {
   "cell_type": "code",
   "execution_count": 42,
   "metadata": {},
   "outputs": [],
   "source": [
    "//We need to state what is the list of\n",
    "//We also need to state what is the Pair made of\n",
    "List<Pair<String,Person>> persons; \n",
    "\n",
    "\n",
    "//El següent mètode imprimirà les persones i retornarà una llista de Cell amb totes les persones\n",
    "public static List<Pair<String,Person>> printPersons(Map<String, String> data){\n",
    "    \n",
    "    //Creating List<Pair<String,Person>>\n",
    "    List<Pair<String,Person>> persons = new ArrayList<>();\n",
    "    \n",
    "    //Declaring variable used in the loop\n",
    "    Pair<String, Person> personPair;\n",
    "    \n",
    "    Set<String> keySet = data.keySet();    \n",
    "    for(String dni:keySet){\n",
    "        //Getting name and surname from map\n",
    "        String[] fullname = data.get(dni).split(\" \");\n",
    "        \n",
    "        //creating Pair\n",
    "        personPair = new Pair<>();\n",
    "        personPair.setKey(dni);\n",
    "        personPair.setValue(new Person(fullname[0], fullname[1]));\n",
    "        \n",
    "        //adding Pair to List\n",
    "        persons.add(personPair);\n",
    "    }\n",
    "    \n",
    "    //Printing all pairs from List\n",
    "    for(Pair<String, Person> pair: persons){\n",
    "        System.out.println(pair.getValue() + \" has DNI \" + pair.getKey() );\n",
    "    }\n",
    "    \n",
    "    //returning List<Pair<String,Person>>\n",
    "    return persons; \n",
    "}\n"
   ]
  },
  {
   "cell_type": "markdown",
   "metadata": {},
   "source": [
    "#### Prova el teu codi executant la següent cel·la de codi, cridant la funció ```printPersons```:\n",
    "Ha d'imprimir, usant les classes Pair i Person, i usant un foreach que recorri un arrayList de Cell:\n",
    "``` \n",
    "Laura Casamitjana té DNI 12345678A\n",
    "Josep Casacuberta té DNI 98765439Z\n",
    "Miquel Queralt té DNI 45645632P\n",
    "Eulalia Forners té DNI 23498755H\n",
    "Abril Nevada té DNI 07651206T\n",
    "```"
   ]
  },
  {
   "cell_type": "code",
   "execution_count": 43,
   "metadata": {},
   "outputs": [
    {
     "name": "stdout",
     "output_type": "stream",
     "text": [
      "Eulalia Forners has DNI 23498755H\n",
      "Miquel Queralt has DNI 45645632P\n",
      "Abril Nevada has DNI 07651206T\n",
      "Josep Casacuberta has DNI 98765439Z\n",
      "Laura Casamitjana has DNI 12345678A\n"
     ]
    }
   ],
   "source": [
    "persons = printPersons(dataPersons);"
   ]
  },
  {
   "cell_type": "markdown",
   "metadata": {},
   "source": [
    "#### Exercici extra:\n",
    "Assigna a cada persona una data de naixement. Això ho has de fer recorrent l'arrayList de Pair, guardat a la variable ```persons```, i usant el corresponent setter.\n",
    "\n",
    "Un cop totes les persones tenen una data de naixement assignada, completa el següent mètode per a imprimir l'edat actual de cada persona:\n",
    "\n",
    "Pista: https://www.w3resource.com/java-exercises/datetime/java-datetime-exercise-32.php"
   ]
  },
  {
   "cell_type": "code",
   "execution_count": 46,
   "metadata": {},
   "outputs": [],
   "source": [
    "import java.time.Period;\n",
    "\n",
    "public int getRandomNumber(int min, int max) {\n",
    "    return (int) ((Math.random() * (max - min)) + min);\n",
    "}\n",
    "\n",
    "//Filling up DateOfBirth in each Person in the List\n",
    "for(Pair<String, Person> pair: persons){\n",
    "    Person person = pair.getValue();\n",
    "    int year = getRandomNumber(1920, 2010);\n",
    "    int month = getRandomNumber(1,12);\n",
    "    int day = getRandomNumber(1,28);\n",
    "    person.setDateOfBirth(LocalDate.of(year,month,day));\n",
    "}\n",
    "\n",
    "//Printing current ages of persons in the List\n",
    "public static void printAges(List<Pair<String,Person>> persons){\n",
    "\n",
    "    Person person;\n",
    "    \n",
    "    LocalDate now = LocalDate.now();\n",
    "    \n",
    "    for(Pair<String,Person> pair: persons){\n",
    "        person = pair.getValue();\n",
    "        printAge(person, now);\n",
    "    }\n",
    "}\n",
    "\n",
    "private void printAge(Person person, LocalDate now){\n",
    "    LocalDate pdate = person.getDateOfBirth();\n",
    "    Period diff = Period.between(pdate, now);\n",
    "    System.out.printf(\"%s is %d years, %d months and %d days old.\\n\\n\", \n",
    "                    person, diff.getYears(), diff.getMonths(), diff.getDays());\n",
    "}"
   ]
  },
  {
   "cell_type": "code",
   "execution_count": 47,
   "metadata": {},
   "outputs": [
    {
     "name": "stdout",
     "output_type": "stream",
     "text": [
      "Eulalia Forners is 21 years, 9 months and 13 days old.\n",
      "\n",
      "Miquel Queralt is 29 years, 5 months and 22 days old.\n",
      "\n",
      "Abril Nevada is 55 years, 0 months and 26 days old.\n",
      "\n",
      "Josep Casacuberta is 30 years, 9 months and 7 days old.\n",
      "\n",
      "Laura Casamitjana is 95 years, 0 months and 11 days old.\n",
      "\n"
     ]
    }
   ],
   "source": [
    "printAges(persons);"
   ]
  },
  {
   "cell_type": "code",
   "execution_count": null,
   "metadata": {},
   "outputs": [],
   "source": []
  }
 ],
 "metadata": {
  "kernelspec": {
   "display_name": "Java",
   "language": "java",
   "name": "java"
  },
  "language_info": {
   "codemirror_mode": "java",
   "file_extension": ".jshell",
   "mimetype": "text/x-java-source",
   "name": "Java",
   "pygments_lexer": "java",
   "version": "11.0.9+11-Ubuntu-0ubuntu1.20.04"
  }
 },
 "nbformat": 4,
 "nbformat_minor": 4
}
